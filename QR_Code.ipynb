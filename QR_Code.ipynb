{
  "nbformat": 4,
  "nbformat_minor": 0,
  "metadata": {
    "colab": {
      "provenance": []
    },
    "kernelspec": {
      "name": "python3",
      "display_name": "Python 3"
    },
    "language_info": {
      "name": "python"
    }
  },
  "cells": [
    {
      "cell_type": "code",
      "execution_count": null,
      "metadata": {
        "colab": {
          "base_uri": "https://localhost:8080/"
        },
        "id": "XZfsosT4OTzn",
        "outputId": "0ff387ab-df3c-4bde-92d4-ec85d048897e"
      },
      "outputs": [
        {
          "output_type": "stream",
          "name": "stdout",
          "text": [
            "Collecting qrcode[pil]\n",
            "  Downloading qrcode-7.4.2-py3-none-any.whl (46 kB)\n",
            "\u001b[2K     \u001b[90m━━━━━━━━━━━━━━━━━━━━━━━━━━━━━━━━━━━━━━━\u001b[0m \u001b[32m46.2/46.2 kB\u001b[0m \u001b[31m960.7 kB/s\u001b[0m eta \u001b[36m0:00:00\u001b[0m\n",
            "\u001b[?25hCollecting pyotp\n",
            "  Downloading pyotp-2.9.0-py3-none-any.whl (13 kB)\n",
            "Requirement already satisfied: typing-extensions in /usr/local/lib/python3.10/dist-packages (from qrcode[pil]) (4.7.1)\n",
            "Collecting pypng (from qrcode[pil])\n",
            "  Downloading pypng-0.20220715.0-py3-none-any.whl (58 kB)\n",
            "\u001b[2K     \u001b[90m━━━━━━━━━━━━━━━━━━━━━━━━━━━━━━━━━━━━━━━━\u001b[0m \u001b[32m58.1/58.1 kB\u001b[0m \u001b[31m3.8 MB/s\u001b[0m eta \u001b[36m0:00:00\u001b[0m\n",
            "\u001b[?25hRequirement already satisfied: pillow>=9.1.0 in /usr/local/lib/python3.10/dist-packages (from qrcode[pil]) (9.4.0)\n",
            "Installing collected packages: pypng, qrcode, pyotp\n",
            "Successfully installed pyotp-2.9.0 pypng-0.20220715.0 qrcode-7.4.2\n"
          ]
        }
      ],
      "source": [
        "pip install qrcode[pil] pyotp\n"
      ]
    },
    {
      "cell_type": "code",
      "source": [
        "import qrcode\n",
        "import pyotp\n",
        "from PIL import Image\n",
        "# Generate a random secret key\n",
        "secret_key = pyotp.random_base32()\n",
        "\n",
        "# Create a TOTP instance with the secret key\n",
        "totp = pyotp.TOTP(secret_key)\n",
        "\n",
        "# Generate the authentication URL for QR code\n",
        "auth_url = totp.provisioning_uri(\"abc@thapar.edu\", issuer_name=\"AttendanceApp\")\n",
        "\n",
        "# Generate the QR code\n",
        "qr = qrcode.QRCode(\n",
        "    version=1,\n",
        "    error_correction=qrcode.constants.ERROR_CORRECT_L,\n",
        "    box_size=10,\n",
        "    border=4,\n",
        ")\n",
        "qr.add_data(auth_url)\n",
        "qr.make(fit=True)\n",
        "\n",
        "# Create a QR code image\n",
        "qr_code_img = qr.make_image(fill_color=\"black\", back_color=\"white\")\n",
        "\n",
        "# Save the QR code image\n",
        "qr_code_img.save(\"qr_code.png\")\n",
        "\n"
      ],
      "metadata": {
        "id": "piujqRiUOi0t"
      },
      "execution_count": null,
      "outputs": []
    },
    {
      "cell_type": "code",
      "source": [
        "from IPython.display import Image, display\n",
        "\n",
        "\n",
        "# Display the QR code image in the notebook\n",
        "display(Image(filename=\"qr_code.png\"))"
      ],
      "metadata": {
        "colab": {
          "base_uri": "https://localhost:8080/",
          "height": 467
        },
        "id": "kLK0zIjFPN5-",
        "outputId": "fed10f08-5e6f-468a-9df0-7ddbf37c59f8"
      },
      "execution_count": null,
      "outputs": [
        {
          "output_type": "display_data",
          "data": {
            "image/png": "[encoded data removed]",
            "text/plain": [
              "<IPython.core.display.Image object>"
            ]
          },
          "metadata": {}
        }
      ]
    },
    {
      "cell_type": "code",
      "source": [
        "import pyotp\n",
        "\n",
        "# Example secret key (replace this with your actual secret key)\n",
        "secret_key = \"3FX6DLXH7SWK2XC57OXVXR2KZSIBHHXP\"\n",
        "\n",
        "# Create a TOTP instance with the secret key\n",
        "totp = pyotp.TOTP(secret_key)\n",
        "\n",
        "# Get the current time-based authentication code\n",
        "current_code = totp.now()\n",
        "\n",
        "print(\"Current Authentication Code:\", current_code)\n"
      ],
      "metadata": {
        "colab": {
          "base_uri": "https://localhost:8080/"
        },
        "id": "rd97ndcxP0CM",
        "outputId": "c6ce4276-8592-407d-f9ea-a81307f48353"
      },
      "execution_count": null,
      "outputs": [
        {
          "output_type": "stream",
          "name": "stdout",
          "text": [
            "Current Authentication Code: 120068\n"
          ]
        }
      ]
    },
    {
      "cell_type": "code",
      "source": [
        "# Generate the current authentication code\n",
        "current_code = totp.now()\n",
        "\n",
        "# Print the current code\n",
        "print(\"Current Authentication Code:\", current_code)\n",
        "\n",
        "# Verify the code\n",
        "verification_result = totp.verify(current_code)\n",
        "\n",
        "if verification_result:\n",
        "    print(\"Authentication code is valid.\")\n",
        "else:\n",
        "    print(\"Authentication code is not valid.\")\n"
      ],
      "metadata": {
        "colab": {
          "base_uri": "https://localhost:8080/"
        },
        "id": "1oUAAgZ5PHPq",
        "outputId": "65364204-2ed8-4d7e-ea58-89660b928dc7"
      },
      "execution_count": null,
      "outputs": [
        {
          "output_type": "stream",
          "name": "stdout",
          "text": [
            "Current Authentication Code: 120068\n",
            "Authentication code is valid.\n"
          ]
        }
      ]
    }
  ]
}